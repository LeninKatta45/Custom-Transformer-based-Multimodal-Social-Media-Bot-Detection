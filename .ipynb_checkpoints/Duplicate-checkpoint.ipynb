{
 "cells": [
  {
   "cell_type": "code",
   "execution_count": null,
   "id": "5d854702",
   "metadata": {},
   "outputs": [],
   "source": [
    "\n",
    "for io,doc in enumerate(collection.find()):\n",
    "    id1=doc[\"id\"]\n",
    "    \n",
    "    profile_image=doc[\"profile_image_url\"]\n",
    "    \n",
    "    text1 = doc['name']\n",
    "    text2= doc['description']\n",
    "    print(\"Next Sample Started\")\n",
    "    texts = []\n",
    "    for i in range(9):\n",
    "        collection7 = db[f'Tweet_{i}']\n",
    "        print(f'Tweet_{i}')\n",
    "        cursor = collection7.find(\n",
    "            {\"author_id\": int(doc['id'][1:])},\n",
    "            {\"text\": 1, \"_id\": 0}  # Only fetch 'text' field, exclude '_id'\n",
    "        )\n",
    "        print(\"Found the Spots\")\n",
    "        for doc1 in cursor:\n",
    "            print(\"Iterating the spots\")\n",
    "            if doc1['text']:\n",
    "                print(\"doc=count++\")\n",
    "                texts.extend(doc1['text'])\n",
    "        if len(texts)!=0:\n",
    "            break\n",
    "\n",
    "    # Join the collected texts\n",
    "    text3 = \"\".join(texts).replace(\"\\n\",\"\")\n",
    "            \n",
    "    \n",
    "    finaltext=re.sub(pattern,'',f\"The name is {text1} with description {text2} posts content is {text3}\").strip()\n",
    "    print(\"Final Text: \",finaltext)\n",
    "    \n",
    "    \n",
    "    followers_count=doc[\"public_metrics\"][\"followers_count\"]\n",
    "    following_count=doc[\"public_metrics\"][\"following_count\"]\n",
    "    tweet_count=doc[\"public_metrics\"][\"tweet_count\"]\n",
    "    listed_count=doc[\"public_metrics\"][\"listed_count\"]\n",
    "    verified = 1 if doc[\"verified\"] else 0\n",
    "    \n",
    "\n",
    "    bot=1 if collection3.find_one({\"id\":id1})['label']==\"bot\" else 0\n",
    "    \n",
    "    split=collection4.find_one({\"id\":id1})['split']\n",
    "    if io==6:\n",
    "        break"
   ]
  }
 ],
 "metadata": {
  "kernelspec": {
   "display_name": "Python 3 (ipykernel)",
   "language": "python",
   "name": "python3"
  },
  "language_info": {
   "codemirror_mode": {
    "name": "ipython",
    "version": 3
   },
   "file_extension": ".py",
   "mimetype": "text/x-python",
   "name": "python",
   "nbconvert_exporter": "python",
   "pygments_lexer": "ipython3",
   "version": "3.11.9"
  }
 },
 "nbformat": 4,
 "nbformat_minor": 5
}
